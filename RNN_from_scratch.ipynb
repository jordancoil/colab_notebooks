{
  "nbformat": 4,
  "nbformat_minor": 0,
  "metadata": {
    "colab": {
      "provenance": [],
      "authorship_tag": "ABX9TyNxZWbY21JpPyKlSKy4l8Oo",
      "include_colab_link": true
    },
    "kernelspec": {
      "name": "python3",
      "display_name": "Python 3"
    },
    "language_info": {
      "name": "python"
    }
  },
  "cells": [
    {
      "cell_type": "markdown",
      "metadata": {
        "id": "view-in-github",
        "colab_type": "text"
      },
      "source": [
        "<a href=\"https://colab.research.google.com/github/jordancoil/colab_notebooks/blob/main/RNN_from_scratch.ipynb\" target=\"_parent\"><img src=\"https://colab.research.google.com/assets/colab-badge.svg\" alt=\"Open In Colab\"/></a>"
      ]
    },
    {
      "cell_type": "code",
      "execution_count": 1,
      "metadata": {
        "id": "KywwAi0Ar_Lb"
      },
      "outputs": [],
      "source": [
        "import numpy as np"
      ]
    },
    {
      "cell_type": "markdown",
      "source": [
        "The basic idea of an RNN is that the activations of the current hidden layer depend on:\n",
        "- the current input\n",
        "- the activations of the previous hidden layer\n",
        "\n",
        "Things to keep in mind:\n",
        "- for the first hidden layer, what are the previous activations?\n",
        "  - h_0 is just zeros\n",
        "- how does \"Backpropagation Through Time\" work?\n",
        "  - (Werbos 1974, Rumelhart et al. 1986, Werbos 1990)\n",
        "\n",
        "History\n",
        "- Simple RNNs originally from Elman, 1990 (Elman Networks)"
      ],
      "metadata": {
        "id": "E1vjl6r0vI3k"
      }
    },
    {
      "cell_type": "code",
      "source": [
        "# numerically stable sigmoid: https://stackoverflow.com/questions/51976461/optimal-way-of-defining-a-numerically-stable-sigmoid-function-for-a-list-in-pyth\n",
        "def sigmoid(x):\n",
        "    return np.where(x >= 0, \n",
        "                    1 / (1 + np.exp(-x)), \n",
        "                    np.exp(x) / (1 + np.exp(x)))\n",
        "\n",
        "class RNN():\n",
        "  def __init__(self, input_size, seq_len, hidden_size, output_size):\n",
        "    # initialize weights\n",
        "    # x_t to hidden_t\n",
        "    w_upper, w_lower = -(1.0 / np.sqrt(input_size)), (1.0 / np.sqrt(input_size))  # Xavier initialization for sigmoid activation\n",
        "    self.W = np.random.randn(input_size, hidden_size)\n",
        "    self.W = w_lower + self.W * (w_upper - w_lower)\n",
        "\n",
        "    # hidden_t-1 to hidden_t\n",
        "    u_upper, u_lower = -(1.0 / np.sqrt(hidden_size)), (1.0 / np.sqrt(hidden_size))  # Xavier initialization for sigmoid activation\n",
        "    self.U = np.random.randn(hidden_size, hidden_size)\n",
        "    self.U = u_lower + self.U * (u_upper - u_lower)\n",
        "\n",
        "    # hidden_t to y_t\n",
        "    self.V = np.random.randn(hidden_size, output_size)\n",
        "\n",
        "    # initialize containers for activations, etc.\n",
        "    # self.input_activations = np.zeros((seq_len, hidden_size))\n",
        "    self.ht = np.zeros((seq_len, hidden_size))\n",
        "    self.yt = np.zeros((seq_len, output_size))\n",
        "    # ...?\n",
        "\n",
        "    self.activation_fn = sigmoid\n",
        "    return\n",
        "\n",
        "  \n",
        "  def forward(self, x):\n",
        "    for t in range(1, len(x)):\n",
        "      Uh_tsub1 =  self.U * self.ht[t-1]\n",
        "      Wx_t = self.W * x[t]\n",
        "      self.ht[t] = self.activation_fn(Uh_tsub1 + Wx_t)\n",
        "      self.yt[t] = self.softmax(self.V * self.ht[t])\n",
        "\n",
        "  \n",
        "  def backward(self):\n",
        "    # TODO\n",
        "    return\n",
        "\n",
        "  def softmax(self, x):\n",
        "    # TODO\n",
        "    return"
      ],
      "metadata": {
        "id": "k8l3VaSgvCJ2"
      },
      "execution_count": 64,
      "outputs": []
    },
    {
      "cell_type": "code",
      "source": [
        "import nltk\n",
        "nltk.download('treebank')"
      ],
      "metadata": {
        "colab": {
          "base_uri": "https://localhost:8080/"
        },
        "id": "bZavNyGrCpUl",
        "outputId": "75bf2849-dff7-4b2a-dd45-733841d7a59b"
      },
      "execution_count": 65,
      "outputs": [
        {
          "output_type": "stream",
          "name": "stderr",
          "text": [
            "[nltk_data] Downloading package treebank to /root/nltk_data...\n",
            "[nltk_data]   Package treebank is already up-to-date!\n"
          ]
        },
        {
          "output_type": "execute_result",
          "data": {
            "text/plain": [
              "True"
            ]
          },
          "metadata": {},
          "execution_count": 65
        }
      ]
    },
    {
      "cell_type": "code",
      "source": [
        "# see: https://www.nltk.org/howto/corpus.html\n",
        "from nltk.corpus import treebank"
      ],
      "metadata": {
        "id": "xz7BOzGnB-0G"
      },
      "execution_count": 66,
      "outputs": []
    },
    {
      "cell_type": "code",
      "source": [
        "import itertools\n",
        "from collections import defaultdict\n",
        "from nltk.tokenize import TreebankWordTokenizer\n",
        "\n",
        "tokenizer = TreebankWordTokenizer().tokenize\n",
        "\n",
        "def create_vocab(sents):\n",
        "\n",
        "  token2id = defaultdict(itertools.count(0).__next__)\n",
        "\n",
        "  [token2id[c] for sent in sents for c in tokenizer(\" \".join(sent))]\n",
        "  id2token = {v: k for k, v in token2id.items()}\n",
        "\n",
        "  return token2id, id2token\n",
        "\n",
        "token2id, id2token = create_vocab(treebank.sents())"
      ],
      "metadata": {
        "id": "F4dyDdLU-Czt"
      },
      "execution_count": 67,
      "outputs": []
    },
    {
      "cell_type": "code",
      "source": [
        "len(token2id), len(id2token)"
      ],
      "metadata": {
        "colab": {
          "base_uri": "https://localhost:8080/"
        },
        "id": "qM0qkxtvFOlB",
        "outputId": "322b4bd5-73cc-4aed-ebbe-13a4a0d1ce43"
      },
      "execution_count": 54,
      "outputs": [
        {
          "output_type": "execute_result",
          "data": {
            "text/plain": [
              "(12409, 12409)"
            ]
          },
          "metadata": {},
          "execution_count": 54
        }
      ]
    },
    {
      "cell_type": "code",
      "source": [
        "# TODO determine max seq len in dataset\n",
        "max_seq_len = 0\n",
        "\n",
        "for sent in treebank.sents():\n",
        "  seq_len = len(sent)\n",
        "  if seq_len > max_seq_len:\n",
        "    max_seq_len = seq_len\n",
        "\n",
        "max_seq_len"
      ],
      "metadata": {
        "colab": {
          "base_uri": "https://localhost:8080/"
        },
        "id": "_BddEYnd9yBt",
        "outputId": "ff58dccc-340c-4a8d-9fa9-879c527f5e08"
      },
      "execution_count": 55,
      "outputs": [
        {
          "output_type": "execute_result",
          "data": {
            "text/plain": [
              "271"
            ]
          },
          "metadata": {},
          "execution_count": 55
        }
      ]
    },
    {
      "cell_type": "code",
      "source": [
        "!pip install sentence_transformers"
      ],
      "metadata": {
        "id": "sHbtVPm0GUt9"
      },
      "execution_count": null,
      "outputs": []
    },
    {
      "cell_type": "code",
      "source": [
        "from sentence_transformers import SentenceTransformer\n",
        "\n",
        "model = SentenceTransformer('flax-sentence-embeddings/all_datasets_v4_MiniLM-L6')"
      ],
      "metadata": {
        "colab": {
          "base_uri": "https://localhost:8080/"
        },
        "id": "gnCTU6EYGWue",
        "outputId": "b7d06c45-cc41-4492-85a3-fcd6cacbecf6"
      },
      "execution_count": 62,
      "outputs": [
        {
          "output_type": "execute_result",
          "data": {
            "text/plain": [
              "384"
            ]
          },
          "metadata": {},
          "execution_count": 62
        }
      ]
    },
    {
      "cell_type": "code",
      "source": [
        "len(id2token)"
      ],
      "metadata": {
        "colab": {
          "base_uri": "https://localhost:8080/"
        },
        "id": "yZ62eOYJHB2d",
        "outputId": "9b52ee4d-3a51-4c6b-c510-d632ab0903c9"
      },
      "execution_count": 63,
      "outputs": [
        {
          "output_type": "execute_result",
          "data": {
            "text/plain": [
              "12409"
            ]
          },
          "metadata": {},
          "execution_count": 63
        }
      ]
    },
    {
      "cell_type": "code",
      "source": [
        "embbedding = model.encode(\" \".join(treebank.sents()[0]))\n",
        "embbedding.shape[0]\n",
        "\n",
        "rnn = RNN(embedding.shape[0], max_seq_len, 16, len(id2token))"
      ],
      "metadata": {
        "id": "1lVL6DB8817R"
      },
      "execution_count": 70,
      "outputs": []
    },
    {
      "cell_type": "code",
      "source": [],
      "metadata": {
        "id": "tM3M7KvNGoy3"
      },
      "execution_count": null,
      "outputs": []
    }
  ]
}