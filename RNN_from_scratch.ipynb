{
  "nbformat": 4,
  "nbformat_minor": 0,
  "metadata": {
    "colab": {
      "provenance": [],
      "authorship_tag": "ABX9TyOefzcZkPwwI9Fjypbqbjp4",
      "include_colab_link": true
    },
    "kernelspec": {
      "name": "python3",
      "display_name": "Python 3"
    },
    "language_info": {
      "name": "python"
    }
  },
  "cells": [
    {
      "cell_type": "markdown",
      "metadata": {
        "id": "view-in-github",
        "colab_type": "text"
      },
      "source": [
        "<a href=\"https://colab.research.google.com/github/jordancoil/colab_notebooks/blob/main/RNN_from_scratch.ipynb\" target=\"_parent\"><img src=\"https://colab.research.google.com/assets/colab-badge.svg\" alt=\"Open In Colab\"/></a>"
      ]
    },
    {
      "cell_type": "code",
      "execution_count": 1,
      "metadata": {
        "id": "KywwAi0Ar_Lb"
      },
      "outputs": [],
      "source": [
        "import numpy as np"
      ]
    },
    {
      "cell_type": "markdown",
      "source": [
        "The basic idea of an RNN is that the activations of the current hidden layer depend on:\n",
        "- the current input\n",
        "- the activations of the previous hidden layer\n",
        "\n",
        "Things to keep in mind:\n",
        "- for the first hidden layer, what are the previous activations?\n",
        "- ...\n",
        "\n",
        "History\n",
        "- Simple RNNs originally from Elman, 1990 (Elman Networks)"
      ],
      "metadata": {
        "id": "E1vjl6r0vI3k"
      }
    },
    {
      "cell_type": "code",
      "source": [
        "class RNN():\n",
        "  def __init__(self, input_size, seq_len, hidden_size, output_size, activation_fn):\n",
        "    # initialize weights\n",
        "    # x_t to hidden_t\n",
        "    self.wt = np.zeros((seq_len, input_size, hidden_size))\n",
        "    self.bwt = np.zeros((seq_len, 1, hidden_size))\n",
        "\n",
        "    # hidden_t-1 to hidden_t\n",
        "    self.ut = np.zeros((seq_len, hidden_size, hidden_size))\n",
        "    self.but = np.zeros((seq_len, 1, hidden_size))\n",
        "\n",
        "    # hidden_t to y_t\n",
        "    self.vt = np.zeros((seq_len, hidden_size, output_size))\n",
        "    self.bvt = np.zeros((seq_len, 1, output_size))\n",
        "\n",
        "    # initialize containers for activations, etc.\n",
        "    # self.input_activations = np.zeros((seq_len, hidden_size))\n",
        "    self.hidden_activations = np.zeros((seq_len, hidden_size))\n",
        "    self.outputs = np.zeros((seq_len, output_size))\n",
        "    # ...?\n",
        "\n",
        "    self.activation_fn = activation_fn\n",
        "    return\n",
        "  \n",
        "  def forward(self, x):\n",
        "    for t in x:\n",
        "      # timestep 't' in sequence\n",
        "      hidden_input = self.wt[t] * x[t] + self.bwt[t]\n",
        "      if t > 1:\n",
        "        hidden_input += self.ut[t] * self.hidden_activations[t-1] + self.but[t]\n",
        "\n",
        "      self.hidden_activations[t] = self.activation_fn(hidden_input)\n",
        "\n",
        "      self.outputs[t] = self.activation_fn(self.hidden_activations[t] * self.vt[t] + self.vbt[t])\n",
        "    return\n",
        "  \n",
        "  def backward(self):\n",
        "    # TODO\n",
        "    return"
      ],
      "metadata": {
        "id": "k8l3VaSgvCJ2"
      },
      "execution_count": null,
      "outputs": []
    }
  ]
}